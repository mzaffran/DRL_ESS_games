{
 "cells": [
  {
   "cell_type": "markdown",
   "metadata": {},
   "source": [
    "Take tensorflow version into account"
   ]
  },
  {
   "cell_type": "code",
   "execution_count": 8,
   "metadata": {},
   "outputs": [],
   "source": [
    "from ess_gym_env import *"
   ]
  },
  {
   "cell_type": "code",
   "execution_count": 9,
   "metadata": {},
   "outputs": [],
   "source": [
    "# Game environnement\n",
    "env = ErdosGameEnv(K=10, \n",
    "                   potential=.2, \n",
    "                   unif_prob=.25, \n",
    "                   diverse_prob=.25, \n",
    "                   geo_prob=.25, \n",
    "                   state_unif_prob=.25,\n",
    "                   high_one_prob=.25, \n",
    "                   disj_supp_prob=.25,\n",
    "                   adverse_set_prob=.25,\n",
    "                   geo_high=.5,\n",
    "                   unif_high=.5)"
   ]
  },
  {
   "cell_type": "code",
   "execution_count": 19,
   "metadata": {},
   "outputs": [
    {
     "data": {
      "text/plain": [
       "0"
      ]
     },
     "execution_count": 19,
     "metadata": {},
     "output_type": "execute_result"
    }
   ],
   "source": [
    "env.action_space.sample()"
   ]
  },
  {
   "cell_type": "code",
   "execution_count": 22,
   "metadata": {},
   "outputs": [
    {
     "data": {
      "text/plain": [
       "array([10,  0,  3,  2,  2,  1,  0,  0,  0,  0,  0,  6,  0,  4,  2,  0,  2,\n",
       "        0,  0,  0,  0,  0])"
      ]
     },
     "execution_count": 22,
     "metadata": {},
     "output_type": "execute_result"
    }
   ],
   "source": [
    "env.reset()"
   ]
  },
  {
   "cell_type": "code",
   "execution_count": 24,
   "metadata": {},
   "outputs": [
    {
     "name": "stdout",
     "output_type": "stream",
     "text": [
      "[16  0  7  4  2  3  0  0  0  0  0]\n"
     ]
    }
   ],
   "source": [
    "print(env.game_state)"
   ]
  },
  {
   "cell_type": "code",
   "execution_count": null,
   "metadata": {},
   "outputs": [],
   "source": []
  },
  {
   "cell_type": "code",
   "execution_count": 13,
   "metadata": {},
   "outputs": [],
   "source": [
    "from baselines.ppo1.mlp_policy import MlpPolicy"
   ]
  },
  {
   "cell_type": "code",
   "execution_count": null,
   "metadata": {},
   "outputs": [],
   "source": [
    "import gym\n",
    "\n",
    "agent = learn(env, MlpPolicy(32, 3) , timesteps_per_batch=10, clip_param=0., entcoeff=1., \n",
    "              optim_epochs=1000, optim_stepsize=1., optim_batchsize=124, gamma=1.0, lam=1.0)\n",
    "\n",
    "obs = env.reset()\n",
    "for i in range(1000):\n",
    "    action, _states = model.predict(obs)\n",
    "    obs, rewards, dones, info = env.step(action)\n",
    "    env.render()"
   ]
  },
  {
   "cell_type": "code",
   "execution_count": 1,
   "metadata": {},
   "outputs": [],
   "source": [
    "import baselines"
   ]
  },
  {
   "cell_type": "code",
   "execution_count": 4,
   "metadata": {},
   "outputs": [
    {
     "name": "stdout",
     "output_type": "stream",
     "text": [
      "Help on package baselines:\n",
      "\n",
      "NAME\n",
      "    baselines\n",
      "\n",
      "PACKAGE CONTENTS\n",
      "    a2c (package)\n",
      "    acer (package)\n",
      "    acktr (package)\n",
      "    bench (package)\n",
      "    common (package)\n",
      "    ddpg (package)\n",
      "    deepq (package)\n",
      "    gail (package)\n",
      "    her (package)\n",
      "    logger\n",
      "    ppo1 (package)\n",
      "    ppo2 (package)\n",
      "    results_plotter\n",
      "    trpo_mpi (package)\n",
      "\n",
      "FILE\n",
      "    d:\\programmes\\anaconda\\lib\\site-packages\\baselines\\__init__.py\n",
      "\n",
      "\n"
     ]
    }
   ],
   "source": [
    "help(baselines)"
   ]
  },
  {
   "cell_type": "code",
   "execution_count": 6,
   "metadata": {},
   "outputs": [
    {
     "ename": "AttributeError",
     "evalue": "module 'baselines' has no attribute 'ppo2'",
     "output_type": "error",
     "traceback": [
      "\u001b[1;31m---------------------------------------------------------------------------\u001b[0m",
      "\u001b[1;31mAttributeError\u001b[0m                            Traceback (most recent call last)",
      "\u001b[1;32m<ipython-input-6-676d0bb4b8f8>\u001b[0m in \u001b[0;36m<module>\u001b[1;34m\u001b[0m\n\u001b[1;32m----> 1\u001b[1;33m \u001b[0mhelp\u001b[0m\u001b[1;33m(\u001b[0m\u001b[0mbaselines\u001b[0m\u001b[1;33m.\u001b[0m\u001b[0mppo2\u001b[0m \u001b[1;33m)\u001b[0m\u001b[1;33m\u001b[0m\u001b[1;33m\u001b[0m\u001b[0m\n\u001b[0m",
      "\u001b[1;31mAttributeError\u001b[0m: module 'baselines' has no attribute 'ppo2'"
     ]
    }
   ],
   "source": [
    "help(baselines.ppo2 )"
   ]
  },
  {
   "cell_type": "code",
   "execution_count": null,
   "metadata": {},
   "outputs": [],
   "source": []
  }
 ],
 "metadata": {
  "kernelspec": {
   "display_name": "Python 3",
   "language": "python",
   "name": "python3"
  },
  "language_info": {
   "codemirror_mode": {
    "name": "ipython",
    "version": 3
   },
   "file_extension": ".py",
   "mimetype": "text/x-python",
   "name": "python",
   "nbconvert_exporter": "python",
   "pygments_lexer": "ipython3",
   "version": "3.7.4"
  }
 },
 "nbformat": 4,
 "nbformat_minor": 4
}
